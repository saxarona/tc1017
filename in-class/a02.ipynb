{
 "cells": [
  {
   "cell_type": "markdown",
   "metadata": {},
   "source": [
    "# Actividad 02"
   ]
  },
  {
   "cell_type": "markdown",
   "metadata": {},
   "source": [
    "## Funciones I"
   ]
  },
  {
   "cell_type": "code",
   "execution_count": 15,
   "metadata": {},
   "outputs": [
    {
     "name": "stdout",
     "output_type": "stream",
     "text": [
      "f(0) = 3\n",
      "f(1) = 5\n",
      "f(2) = 7\n",
      "f(3) = 9\n",
      "f(4) = 11\n"
     ]
    }
   ],
   "source": [
    "# 2x+ 3\n",
    "for x in range(5):\n",
    "    fx = 2 * x + 3\n",
    "    print(\"f({}) = {}\".format(x, fx))"
   ]
  },
  {
   "cell_type": "code",
   "execution_count": 16,
   "metadata": {
    "scrolled": true
   },
   "outputs": [
    {
     "name": "stdout",
     "output_type": "stream",
     "text": [
      "g(0, 4) = 17\n",
      "g(1, 3) = 19\n",
      "g(2, 2) = 31\n",
      "g(3, 1) = 53\n",
      "g(4, 0) = 85\n"
     ]
    }
   ],
   "source": [
    "# g(x, y) = 5x2+ 3y+ 5\n",
    "for x, y in zip(range(5), range(4, -1, -1)):\n",
    "    gxy = 5 * x ** 2 + 3 * y + 5\n",
    "    print(\"g({}, {}) = {}\".format(x, y, gxy))"
   ]
  },
  {
   "cell_type": "code",
   "execution_count": 2,
   "metadata": {},
   "outputs": [
    {
     "name": "stdout",
     "output_type": "stream",
     "text": [
      "h(0) = 0\n",
      "h(1) = 3\n",
      "h(2) = 4\n",
      "h(3) = 9\n",
      "h(4) = 8\n"
     ]
    }
   ],
   "source": [
    "# h(x) = 2x, si x es par\n",
    "# h(x) = 3x, si x es impar\n",
    "\n",
    "for x in range(5):\n",
    "    hx = 2 * x if x % 2 == 0 else 3 * x\n",
    "    print(\"h({}) = {}\".format(x, hx))"
   ]
  },
  {
   "cell_type": "markdown",
   "metadata": {},
   "source": [
    "## Funciones II y Control de Flujo I"
   ]
  },
  {
   "cell_type": "markdown",
   "metadata": {},
   "source": [
    "$f(x) = 2x + 3$\n",
    "\n",
    "1. ¿Cuántos parámetros tiene $f(x)$? &emsp; 1\n",
    "2. ¿Cuál o cuáles son esos parámetros? &emsp; $x$"
   ]
  },
  {
   "cell_type": "markdown",
   "metadata": {},
   "source": [
    "$g(x,y) = 5x^2 + 3y + 5$\n",
    "\n",
    "1. ¿Cuántos parámetros tiene $g(x,y)$ &emsp; 2\n",
    "2. ¿Cuál o cuáles son esos parámetros? &emsp; $x, y$"
   ]
  },
  {
   "cell_type": "markdown",
   "metadata": {},
   "source": [
    "$h(x) = \\begin{cases} 2x, \\; x \\text{ es par} \\\\ 3x, \\; x \\text{ es impar}\\end{cases}$\n",
    "\n",
    "1. ¿Cuántos parámetros tiene $h(x)$? &emsp; 1\n",
    "2. ¿Cuál o cuáles son esos parámetros? &emsp; $x$\n",
    "3. ¿Cómo hago para que regrese a veces $2x$ y a veces $3x$? &emsp; Usando un condicional (`if`)\n",
    "4. ¿Cómo hago para revisar si es par o impar? &emsp; Usando la función `modulo` (`%`)"
   ]
  }
 ],
 "metadata": {
  "kernelspec": {
   "display_name": "Python 3",
   "language": "python",
   "name": "python3"
  },
  "language_info": {
   "codemirror_mode": {
    "name": "ipython",
    "version": 3
   },
   "file_extension": ".py",
   "mimetype": "text/x-python",
   "name": "python",
   "nbconvert_exporter": "python",
   "pygments_lexer": "ipython3",
   "version": "3.7.3"
  }
 },
 "nbformat": 4,
 "nbformat_minor": 2
}
